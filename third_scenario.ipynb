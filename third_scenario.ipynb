{
 "cells": [
  {
   "cell_type": "code",
   "execution_count": 1,
   "id": "b2464376",
   "metadata": {},
   "outputs": [],
   "source": [
    "import requests\n",
    "from typing import Dict, Any, Optional\n",
    "\n",
    "BASE_URL = \"https://berghain.challenges.listenlabs.ai/\"  # ← replace with the real host\n",
    "PLAYER_ID = \"5d7389b8-683e-453b-a35f-6d21b1b5e94e\"\n",
    "SCENARIO = 3  # choose 1, 2, or 3\n",
    "\n",
    "def create_new_game(scenario: int, player_id: str) -> Dict[str, Any]:\n",
    "    url = f\"{BASE_URL}/new-game\"\n",
    "    res = requests.get(url, params={\"scenario\": scenario, \"playerId\": player_id}, timeout=30)\n",
    "    res.raise_for_status()\n",
    "    data = res.json()\n",
    "    print(\"New game:\", data[\"gameId\"])\n",
    "    return data"
   ]
  },
  {
   "cell_type": "code",
   "execution_count": 2,
   "id": "5f52d745",
   "metadata": {},
   "outputs": [
    {
     "name": "stdout",
     "output_type": "stream",
     "text": [
      "New game: a795f96e-6403-439e-9e2c-b9b3c1270f8a\n",
      "[{'attribute': 'underground_veteran', 'minCount': 500}, {'attribute': 'international', 'minCount': 650}, {'attribute': 'fashion_forward', 'minCount': 550}, {'attribute': 'queer_friendly', 'minCount': 250}, {'attribute': 'vinyl_collector', 'minCount': 200}, {'attribute': 'german_speaker', 'minCount': 800}]\n",
      "{'relativeFrequencies': {'underground_veteran': 0.6794999999999999, 'international': 0.5735, 'fashion_forward': 0.6910000000000002, 'queer_friendly': 0.04614, 'vinyl_collector': 0.044539999999999996, 'german_speaker': 0.4565000000000001}, 'correlations': {'underground_veteran': {'underground_veteran': 1, 'international': -0.08110175777152992, 'fashion_forward': -0.1696563475505309, 'queer_friendly': 0.03719928376753885, 'vinyl_collector': 0.07223521156389842, 'german_speaker': 0.11188766703422799}, 'international': {'underground_veteran': -0.08110175777152992, 'international': 1, 'fashion_forward': 0.375711059360155, 'queer_friendly': 0.0036693314388711686, 'vinyl_collector': -0.03083247098181075, 'german_speaker': -0.7172529382519395}, 'fashion_forward': {'underground_veteran': -0.1696563475505309, 'international': 0.375711059360155, 'fashion_forward': 1, 'queer_friendly': -0.0034530926793377476, 'vinyl_collector': -0.11024719606358546, 'german_speaker': -0.3521024461597403}, 'queer_friendly': {'underground_veteran': 0.03719928376753885, 'international': 0.0036693314388711686, 'fashion_forward': -0.0034530926793377476, 'queer_friendly': 1, 'vinyl_collector': 0.47990640803167306, 'german_speaker': 0.04797381132680503}, 'vinyl_collector': {'underground_veteran': 0.07223521156389842, 'international': -0.03083247098181075, 'fashion_forward': -0.11024719606358546, 'queer_friendly': 0.47990640803167306, 'vinyl_collector': 1, 'german_speaker': 0.09984452286269897}, 'german_speaker': {'underground_veteran': 0.11188766703422799, 'international': -0.7172529382519395, 'fashion_forward': -0.3521024461597403, 'queer_friendly': 0.04797381132680503, 'vinyl_collector': 0.09984452286269897, 'german_speaker': 1}}}\n"
     ]
    }
   ],
   "source": [
    "new_game = create_new_game(SCENARIO, PLAYER_ID)\n",
    "game_id = new_game[\"gameId\"]\n",
    "constraints = new_game.get(\"constraints\", [])\n",
    "stats = new_game.get(\"attributeStatistics\", {})\n",
    "print(constraints)\n",
    "print(stats)"
   ]
  },
  {
   "cell_type": "code",
   "execution_count": 3,
   "id": "3c457667",
   "metadata": {},
   "outputs": [
    {
     "name": "stdout",
     "output_type": "stream",
     "text": [
      "[0.6794999999999999, 0.5735, 0.6910000000000002, 0.04614, 0.044539999999999996, 0.4565000000000001]\n",
      "[[1.0, -0.08110175777152992, -0.1696563475505309, 0.03719928376753885, 0.07223521156389842, 0.11188766703422799], [-0.08110175777152992, 1.0, 0.375711059360155, 0.0036693314388711686, -0.03083247098181075, -0.7172529382519395], [-0.1696563475505309, 0.375711059360155, 1.0, -0.0034530926793377476, -0.11024719606358546, -0.3521024461597403], [0.03719928376753885, 0.0036693314388711686, -0.0034530926793377476, 1.0, 0.47990640803167306, 0.04797381132680503], [0.07223521156389842, -0.03083247098181075, -0.11024719606358546, 0.47990640803167306, 1.0, 0.09984452286269897], [0.11188766703422799, -0.7172529382519395, -0.3521024461597403, 0.04797381132680503, 0.09984452286269897, 1.0]]\n"
     ]
    }
   ],
   "source": [
    "from helper import convert_data_to_arrays\n",
    "stats = convert_data_to_arrays(stats)\n",
    "marginals, target_corr = stats\n",
    "print(marginals.tolist())\n",
    "print(target_corr.tolist())"
   ]
  },
  {
   "cell_type": "code",
   "execution_count": null,
   "id": "73f84a59",
   "metadata": {},
   "outputs": [],
   "source": []
  }
 ],
 "metadata": {
  "kernelspec": {
   "display_name": "Python 3",
   "language": "python",
   "name": "python3"
  },
  "language_info": {
   "codemirror_mode": {
    "name": "ipython",
    "version": 3
   },
   "file_extension": ".py",
   "mimetype": "text/x-python",
   "name": "python",
   "nbconvert_exporter": "python",
   "pygments_lexer": "ipython3",
   "version": "3.12.4"
  }
 },
 "nbformat": 4,
 "nbformat_minor": 5
}
